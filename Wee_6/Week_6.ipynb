{
 "cells": [
  {
   "cell_type": "markdown",
   "id": "addb92d6",
   "metadata": {},
   "source": [
    "# 1. Write a Python program that inputs two tuples and creates a third that contains all elements of the first followed by all elements of the second.\n"
   ]
  },
  {
   "cell_type": "code",
   "execution_count": 4,
   "id": "0a87df2d",
   "metadata": {},
   "outputs": [
    {
     "name": "stdout",
     "output_type": "stream",
     "text": [
      "first tuple: (4, 5, 6, 8, 7)\n",
      "Second tuple: (9, 1, 2, 5, 44)\n",
      "Third tuple: (4, 9, 5, 1, 6, 2, 8, 5, 7, 44)\n"
     ]
    }
   ],
   "source": [
    "tp1=()\n",
    "tp2=()\n",
    "tp3=()\n",
    "for i in range(5):\n",
    "    n=int(input(\"Enter the for first tuple: \"))\n",
    "    tp1=tp1+(n,)\n",
    "for j in range(5):\n",
    "    m=int(input(\"Enter the for second tuple: \"))\n",
    "    tp2=tp2+(m,)\n",
    "print(\"first tuple:\",tp1)\n",
    "print(\"Second tuple:\",tp2)\n",
    "for k in range(5):\n",
    "    tp3=tp3+(tp1[k],tp2[k])\n",
    "print(\"Third tuple:\",tp3)"
   ]
  },
  {
   "cell_type": "markdown",
   "id": "235df4ae",
   "metadata": {},
   "source": [
    "# 2. Write a Python program to create a dictionary with names and phone numbers. Thenask the user for a name and print the corresponding phone number."
   ]
  },
  {
   "cell_type": "code",
   "execution_count": null,
   "id": "468b16c2",
   "metadata": {},
   "outputs": [],
   "source": [
    "import string\n",
    "phonebook=dict(\n",
    "    {\n",
    "        \"Alice\":123-456-7890,\n",
    "        \"Bob\":987-654-3210,\n",
    "        \"Charlie\":555-555-5555,\n",
    "        \"David\":111-222-3333,\n",
    "        \"Eve\":444-444-4444,\n",
    "        \"Ashadh\":1234567890,\n",
    "        \"Syed\":9876543210,\n",
    "        \"Raju\":4567891230,\n",
    "        \"Rahul\":7891234560,\n",
    "        \"Anil\":3216549870\n",
    "    }\n",
    ")\n",
    "name=input(\"Enter the name to search the phone number: \")\n",
    "Name=string.capwords(name)\n",
    "if Name in phonebook:\n",
    "    print(f\"The phone number of {Name} is {phonebook[Name]}\")"
   ]
  },
  {
   "cell_type": "markdown",
   "id": "f1e84e93",
   "metadata": {},
   "source": [
    "# 3. Write a Python program to calculate the sum of squares of the first two digits and the last two digits of a 4-digit number, e.g., for 1233, calculate 12^2 + 33^2."
   ]
  },
  {
   "cell_type": "code",
   "execution_count": 1,
   "id": "f80f25c1",
   "metadata": {},
   "outputs": [
    {
     "name": "stdout",
     "output_type": "stream",
     "text": [
      "The sum of the square of 12 and 34 is: 1300\n"
     ]
    }
   ],
   "source": [
    "num=(input(\"Enter a 4-digit number: \"))\n",
    "if len(num)!=4 or not num.isdigit():\n",
    "    print(\"Invalid input! Please enter a 4-digit number.\")\n",
    "else:\n",
    "    first_digits=int(num[:2])\n",
    "    last_digits=int(num[2:])\n",
    "    sum=first_digits**2+last_digits**2\n",
    "    print(f\"The sum of the square of {first_digits} and {last_digits} is: {sum}\")"
   ]
  },
  {
   "cell_type": "markdown",
   "id": "b9237527",
   "metadata": {},
   "source": [
    "# 4. Write a program that inputs a main string and creates an encrypted string by embedding a short symbol-based string after each character. The program should also decrypt the string.\n"
   ]
  },
  {
   "cell_type": "code",
   "execution_count": null,
   "id": "54cc5ef2",
   "metadata": {},
   "outputs": [
    {
     "name": "stdout",
     "output_type": "stream",
     "text": [
      "hELLO@wORLD#7975\n"
     ]
    }
   ],
   "source": []
  },
  {
   "cell_type": "markdown",
   "id": "7903e5be",
   "metadata": {},
   "source": [
    "# 5. Write a program to get roll numbers, names, and marks of students and store these details in a file called \"Marks.data\".\n"
   ]
  },
  {
   "cell_type": "code",
   "execution_count": null,
   "id": "e5912b1f",
   "metadata": {},
   "outputs": [],
   "source": []
  },
  {
   "cell_type": "markdown",
   "id": "241a8b11",
   "metadata": {},
   "source": [
    "# 6. Write a program to accept a string and display:\n",
    "    a. Number of uppercase characters\n",
    "    b. Number of lowercase characters\n",
    "    c. Total number of alphabets\n",
    "    d. Number of digits\n",
    " "
   ]
  },
  {
   "cell_type": "code",
   "execution_count": 8,
   "id": "44c84f6f",
   "metadata": {},
   "outputs": [
    {
     "name": "stdout",
     "output_type": "stream",
     "text": [
      "Number of uppercase letters: 14\n",
      "Number of lowercase letters: 62\n",
      "Total number of characters: 94\n",
      "Number of digits: 0\n"
     ]
    }
   ],
   "source": [
    "user_string=input(\"Enter a string: \")\n",
    "num_of_uppercase=0\n",
    "num_of_lowercase=0\n",
    "total_of_characters=0\n",
    "num_of_digits=0\n",
    "for char in user_string:\n",
    "    if char.isupper():\n",
    "        num_of_uppercase+=1\n",
    "    elif char.islower():\n",
    "        num_of_lowercase+=1\n",
    "    elif char.isdigit():\n",
    "        num_of_digits+=1\n",
    "\n",
    "    total_of_characters+=1\n",
    "print(f\"Number of uppercase letters: {num_of_uppercase}\")\n",
    "print(f\"Number of lowercase letters: {num_of_lowercase}\")\n",
    "print(f\"Total number of characters: {total_of_characters}\")\n",
    "print(f\"Number of digits: {num_of_digits}\")"
   ]
  },
  {
   "cell_type": "markdown",
   "id": "eca551c4",
   "metadata": {},
   "source": [
    "# 7. Create a C program that accepts an IPv4 address and subnet mask in dotted decimal format, and outputs:\n",
    "    a. Network ID\n",
    "    b. Broadcast Address\n",
    "    c. First and Last Host Address\n",
    "    d. CIDR notation\n",
    "    e. Number of valid hosts\n",
    "    f. IP Address Class (A/B/C/D/E)."
   ]
  },
  {
   "cell_type": "code",
   "execution_count": null,
   "id": "8d62a06f",
   "metadata": {},
   "outputs": [],
   "source": []
  }
 ],
 "metadata": {
  "kernelspec": {
   "display_name": ".venv",
   "language": "python",
   "name": "python3"
  },
  "language_info": {
   "codemirror_mode": {
    "name": "ipython",
    "version": 3
   },
   "file_extension": ".py",
   "mimetype": "text/x-python",
   "name": "python",
   "nbconvert_exporter": "python",
   "pygments_lexer": "ipython3",
   "version": "3.13.5"
  }
 },
 "nbformat": 4,
 "nbformat_minor": 5
}
