{
 "cells": [
  {
   "cell_type": "markdown",
   "id": "d7de6a2e",
   "metadata": {},
   "source": [
    "# 1. Write a program to generate a 6-digit random secure OTP."
   ]
  },
  {
   "cell_type": "code",
   "execution_count": 4,
   "id": "dadf4bd1",
   "metadata": {},
   "outputs": [
    {
     "name": "stdout",
     "output_type": "stream",
     "text": [
      "Generated OTP: 852455\n",
      "Encrypted OTP: 376055\n"
     ]
    }
   ],
   "source": [
    "import numpy as np\n",
    "import secrets\n",
    "otp=secrets.randbelow(1000000)\n",
    "def hill_cipher(otp, key):\n",
    "    key_matrix = np.array(key).reshape(2, 2)\n",
    "    otp_digits = [int(d) for d in str(otp).zfill(6)]\n",
    "    otp_matrix = np.array(otp_digits).reshape(3, 2)\n",
    "    encrypted_matrix = np.dot(otp_matrix, key_matrix) % 10\n",
    "    encrypted_otp = ''.join(str(d) for d in encrypted_matrix.flatten())\n",
    "    return encrypted_otp\n",
    "key = [6, 24, 1, 13]\n",
    "encrypted_otp = hill_cipher(otp, key)\n",
    "print(f\"Generated OTP: {otp}\")\n",
    "print(f\"Encrypted OTP: {encrypted_otp}\")\n",
    "    "
   ]
  },
  {
   "cell_type": "markdown",
   "id": "32385faa",
   "metadata": {},
   "source": [
    "# 2. Write a program to pick a random character from a user-supplied string."
   ]
  },
  {
   "cell_type": "code",
   "execution_count": 5,
   "id": "99416821",
   "metadata": {},
   "outputs": [
    {
     "name": "stdout",
     "output_type": "stream",
     "text": [
      "bilal\n",
      "l\n"
     ]
    }
   ],
   "source": [
    "import random\n",
    "user_String=input(\"Enter a string : \")\n",
    "randChar=random.choice(user_String)\n",
    "print(user_String)\n",
    "print(randChar)"
   ]
  },
  {
   "cell_type": "markdown",
   "id": "6dffa1af",
   "metadata": {},
   "source": [
    "# 3. Write  a program to generate a random password that meets the following conditions:\n",
    "    a. Password length must be 10 characters long.\n",
    "    b. It must contain at least 2 uppercase letters, 1 digit, and 1 special symbol."
   ]
  },
  {
   "cell_type": "code",
   "execution_count": 6,
   "id": "df866f26",
   "metadata": {},
   "outputs": [
    {
     "name": "stdout",
     "output_type": "stream",
     "text": [
      "[74, 70, 98, 65, 57, 75, 102, 113, 112, 35]\n",
      "[[45  5 47 69 10 21 90 84 86 19]\n",
      " [41  9 74 65 44 18 49 93 52 39]\n",
      " [87 79 64 53 59 37 60 22 33 99]\n",
      " [27 63 58 81 28  1 71 43 91 98]\n",
      " [11 35 17 68 13 88 32 62  8 78]\n",
      " [72 97 50 83 38 14 75 36 70 95]\n",
      " [80 15  0 16 96 82 20 76 89  2]\n",
      " [57 40 42 73 51 48 31 66  3  6]\n",
      " [ 7 46 29  4 92 24 77 85 34 23]\n",
      " [67 30 54 12 56 94 25 61 26 55]]\n",
      "[16 13 23 15 10 19 20 24 20  8]\n",
      "Generated Password: JFbA9Kfqp#\n",
      "Encrypted Password: QNXPKTUYUI\n"
     ]
    }
   ],
   "source": [
    "import string\n",
    "dig=string.digits\n",
    "calph=string.ascii_uppercase\n",
    "salph=string.ascii_lowercase\n",
    "spelsy='@#$&'\n",
    "s=[]\n",
    "for i in range(10):\n",
    "    if i <= 1:\n",
    "        s.append(secrets.choice(calph))\n",
    "    if i==2:\n",
    "        s.append(secrets.choice(dig))\n",
    "    if i==3:\n",
    "        s.append(secrets.choice(spelsy))\n",
    "    if i>=4:\n",
    "        s.append(secrets.choice(dig+spelsy+salph+calph))\n",
    "random.shuffle(s)        \n",
    "psswd=\"\".join(s)\n",
    "\n",
    "key = [int(x) for x in random.sample(range(100), 100)]\n",
    "pm=[ord(c) for c in psswd]\n",
    "print(pm)\n",
    "m1=np.array(key).reshape(10, 10)\n",
    "print(m1)\n",
    "prodmetrix=np.dot(pm,m1)%26\n",
    "print(prodmetrix)\n",
    "ciphertext=\"\".join(chr(d+65) for d in prodmetrix.flatten())\n",
    "print(f\"Generated Password: {psswd}\")\n",
    "print(f\"Encrypted Password: {ciphertext}\")"
   ]
  },
  {
   "cell_type": "markdown",
   "id": "bf1138a2",
   "metadata": {},
   "source": [
    "# 4. Given two lists of numbers, write a program to create a new list containing oddnumbers from the first list and even numbers from the second list."
   ]
  },
  {
   "cell_type": "code",
   "execution_count": 7,
   "id": "9b3e294b",
   "metadata": {},
   "outputs": [
    {
     "name": "stdout",
     "output_type": "stream",
     "text": [
      "[64, 3, 94, 46, 76, 7, 974, 79, 78]\n"
     ]
    }
   ],
   "source": [
    "l1=[64,46,94,98,76,74,974]\n",
    "l2=[54,3,59,46,26,7,9,79,49,78]\n",
    "l3=[]\n",
    "n=max(len(l1),len(l2))\n",
    "i=0\n",
    "while i <n:\n",
    "    if i < len(l1):\n",
    "        if i%2==0:l3.append(l1[i])\n",
    "    if i%2 !=0:l3.append(l2[i])\n",
    "    i+=1\n",
    "print(l3)"
   ]
  },
  {
   "cell_type": "markdown",
   "id": "f907be68",
   "metadata": {},
   "source": [
    "# 5. Write a program to create a numpy array and return an array of odd rows and evencolumns from the numpy array."
   ]
  },
  {
   "cell_type": "code",
   "execution_count": 8,
   "id": "5bab134b",
   "metadata": {},
   "outputs": [
    {
     "name": "stdout",
     "output_type": "stream",
     "text": [
      "[ 64  46  94  98  76  74 974]\n",
      "[[54  3]\n",
      " [59 46]\n",
      " [26  7]\n",
      " [ 9 79]\n",
      " [49 78]]\n"
     ]
    }
   ],
   "source": [
    "ar1=np.array(l1)\n",
    "print(ar1)\n",
    "ar2=np.array(l2).reshape(5,2)\n",
    "print(ar2)"
   ]
  },
  {
   "cell_type": "markdown",
   "id": "ca45d418",
   "metadata": {},
   "source": [
    "# 6. Write a program to create a numpy array and sort it as per the following cases:\n",
    "    a. Case 1: Sort the array by the second row.\n",
    "    b. Case 2: Sort the array by the second column.\n"
   ]
  },
  {
   "cell_type": "code",
   "execution_count": 9,
   "id": "19099bcd",
   "metadata": {},
   "outputs": [
    {
     "name": "stdout",
     "output_type": "stream",
     "text": [
      "Original Array:\n",
      "[[34 21 32 41 25]\n",
      " [14 42 43 14 31]\n",
      " [54 45 52 42 23]\n",
      " [33 15 51 31 35]\n",
      " [21 52 33 13 23]]\n",
      "Sorted Array:\n",
      "[[13 14 14 15 21]\n",
      " [21 23 23 25 31]\n",
      " [31 32 33 33 34]\n",
      " [35 41 42 42 43]\n",
      " [51 52 54 54 54]]\n"
     ]
    }
   ],
   "source": [
    "array_1=np.array([[34,21,32,41,25],\n",
    "                 [14,42,43,14,31],\n",
    "                 [54,45,52,42,23],\n",
    "                 [33,15,51,31,35],\n",
    "                 [21,52,33,13,23]])\n",
    "print(\"Original Array:\")\n",
    "print(array_1)\n",
    "def marge(arr,low,mid,high):\n",
    "    temp=[]\n",
    "    i=low\n",
    "    j=mid+1\n",
    "    while i<=mid and j<=high:\n",
    "        if arr[i]<=arr[j]:\n",
    "            temp.append(arr[i])\n",
    "            i+=1\n",
    "        else:\n",
    "            temp.append(arr[j])\n",
    "            j+=1\n",
    "    while i<=mid:\n",
    "        temp.append(arr[i])\n",
    "        i+=1\n",
    "    while j<=high:\n",
    "        temp.append(arr[j])\n",
    "        j+=1\n",
    "        j+=1\n",
    "    for i in range(len(temp)):\n",
    "        arr[low+i]=temp[i]\n",
    "\n",
    "def marge_sort(arr, low,high):\n",
    "    if low>=high:\n",
    "        return\n",
    "    mid=(low+high)//2\n",
    "    marge_sort(arr,low,mid)\n",
    "    marge_sort(arr,mid+1,high)\n",
    "    marge(arr,low,mid,high)\n",
    "\n",
    "array_1=array_1.flatten()\n",
    "marge_sort(array_1,0,len(array_1)-1)\n",
    "print(\"Sorted Array:\")\n",
    "print(array_1.reshape(5,5)) "
   ]
  }
 ],
 "metadata": {
  "kernelspec": {
   "display_name": ".venv",
   "language": "python",
   "name": "python3"
  },
  "language_info": {
   "codemirror_mode": {
    "name": "ipython",
    "version": 3
   },
   "file_extension": ".py",
   "mimetype": "text/x-python",
   "name": "python",
   "nbconvert_exporter": "python",
   "pygments_lexer": "ipython3",
   "version": "3.13.5"
  }
 },
 "nbformat": 4,
 "nbformat_minor": 5
}
