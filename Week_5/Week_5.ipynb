{
 "cells": [
  {
   "cell_type": "markdown",
   "id": "d7de6a2e",
   "metadata": {},
   "source": [
    "# 1. Write a program to generate a 6-digit random secure OTP."
   ]
  },
  {
   "cell_type": "code",
   "execution_count": 21,
   "id": "dadf4bd1",
   "metadata": {},
   "outputs": [
    {
     "name": "stdout",
     "output_type": "stream",
     "text": [
      "Generated OTP: 948824\n",
      "Encrypted OTP: 886660\n"
     ]
    }
   ],
   "source": [
    "import numpy as np\n",
    "import secrets\n",
    "otp=secrets.randbelow(1000000)\n",
    "def hill_cipher(otp, key):\n",
    "    key_matrix = np.array(key).reshape(2, 2)\n",
    "    otp_digits = [int(d) for d in str(otp).zfill(6)]\n",
    "    otp_matrix = np.array(otp_digits).reshape(3, 2)\n",
    "    encrypted_matrix = np.dot(otp_matrix, key_matrix) % 10\n",
    "    encrypted_otp = ''.join(str(d) for d in encrypted_matrix.flatten())\n",
    "    return encrypted_otp\n",
    "key = [6, 24, 1, 13]\n",
    "encrypted_otp = hill_cipher(otp, key)\n",
    "print(f\"Generated OTP: {otp}\")\n",
    "print(f\"Encrypted OTP: {encrypted_otp}\")\n",
    "    "
   ]
  },
  {
   "cell_type": "markdown",
   "id": "32385faa",
   "metadata": {},
   "source": [
    "# 2. Write a program to pick a random character from a user-supplied string."
   ]
  },
  {
   "cell_type": "code",
   "execution_count": 23,
   "id": "99416821",
   "metadata": {},
   "outputs": [
    {
     "name": "stdout",
     "output_type": "stream",
     "text": [
      "Bilal ahmad\n",
      "h\n"
     ]
    }
   ],
   "source": [
    "import random\n",
    "user_String=input(\"Enter a string : \")\n",
    "randChar=random.choice(user_String)\n",
    "print(user_String)\n",
    "print(randChar)"
   ]
  },
  {
   "cell_type": "markdown",
   "id": "6dffa1af",
   "metadata": {},
   "source": [
    "# 3. Write  a program to generate a random password that meets the following conditions:\n",
    "    a. Password length must be 10 characters long.\n",
    "    b. It must contain at least 2 uppercase letters, 1 digit, and 1 special symbol."
   ]
  },
  {
   "cell_type": "code",
   "execution_count": null,
   "id": "df866f26",
   "metadata": {},
   "outputs": [
    {
     "name": "stdout",
     "output_type": "stream",
     "text": [
      "[84, 57, 88, 89, 86, 64, 54, 50, 48, 72]\n",
      "[[65 75 52 12 76 20 36 74 40  2]\n",
      " [78  0 64 14  4 61 16 18 82 80]\n",
      " [19 34 23 27 54  1 71 24 84 72]\n",
      " [73  8 94 98 58 57 91 49 53 66]\n",
      " [42 10 47 48 83 35  5 88 15 37]\n",
      " [89 87 43 79 99 39 26 11 22 90]\n",
      " [96 69 32 67 97 45 25  9 68 51]\n",
      " [ 3 63 17 59 21  7 41  6 50 92]\n",
      " [81 85 77 56 28 62 13 30 86 46]\n",
      " [95 70 31 60 55 38 33 44 29 93]]\n",
      "[25  6 10 18 18  6 23  3 25 18]\n",
      "Generated Password: T9XYV@620H\n",
      "Encrypted Password: ZGKSSGXDZS\n"
     ]
    }
   ],
   "source": [
    "import string\n",
    "dig=string.digits\n",
    "calph=string.ascii_uppercase\n",
    "salph=string.ascii_lowercase\n",
    "spelsy='@#$&'\n",
    "s=[]\n",
    "for i in range(10):\n",
    "    if i <= 1:\n",
    "        s.append(secrets.choice(calph))\n",
    "    if i==2:\n",
    "        s.append(secrets.choice(dig))\n",
    "    if i==3:\n",
    "        s.append(secrets.choice(spelsy))\n",
    "    if i>=4:\n",
    "        s.append(secrets.choice(dig+spelsy+salph+calph))\n",
    "random.shuffle(s)        \n",
    "psswd=\"\".join(s)\n",
    "\n",
    "key = [int(x) for x in random.sample(range(100), 100)]\n",
    "pm=[ord(c) for c in psswd]\n",
    "print(pm)\n",
    "m1=np.array(key).reshape(10, 10)\n",
    "print(m1)\n",
    "prodmetrix=np.dot(pm,m1)%26\n",
    "print(prodmetrix)\n",
    "ciphertext=\"\".join(chr(d+65) for d in prodmetrix.flatten())\n",
    "print(f\"Generated Password: {psswd}\")\n",
    "print(f\"Encrypted Password: {ciphertext}\")"
   ]
  },
  {
   "cell_type": "markdown",
   "id": "bf1138a2",
   "metadata": {},
   "source": [
    "# 4. Given two lists of numbers, write a program to create a new list containing oddnumbers from the first list and even numbers from the second list."
   ]
  },
  {
   "cell_type": "code",
   "execution_count": 192,
   "id": "9b3e294b",
   "metadata": {},
   "outputs": [
    {
     "name": "stdout",
     "output_type": "stream",
     "text": [
      "[64, 3, 94, 46, 76, 7, 974, 79, 78]\n"
     ]
    }
   ],
   "source": [
    "l1=[64,46,94,98,76,74,974]\n",
    "l2=[54,3,59,46,26,7,9,79,49,78]\n",
    "l3=[]\n",
    "n=max(len(l1),len(l2))\n",
    "i=0\n",
    "while i <n:\n",
    "    if i < len(l1):\n",
    "        if i%2==0:l3.append(l1[i])\n",
    "    if i%2 !=0:l3.append(l2[i])\n",
    "    i+=1\n",
    "print(l3)"
   ]
  },
  {
   "cell_type": "markdown",
   "id": "f907be68",
   "metadata": {},
   "source": [
    "# 5. Write a program to create a numpy array and return an array of odd rows and evencolumns from the numpy array."
   ]
  },
  {
   "cell_type": "code",
   "execution_count": 204,
   "id": "5bab134b",
   "metadata": {},
   "outputs": [
    {
     "name": "stdout",
     "output_type": "stream",
     "text": [
      "[ 64  46  94  98  76  74 974]\n",
      "[[54  3]\n",
      " [59 46]\n",
      " [26  7]\n",
      " [ 9 79]\n",
      " [49 78]]\n"
     ]
    }
   ],
   "source": [
    "ar1=np.array(l1)\n",
    "print(ar1)\n",
    "ar2=np.array(l2).reshape(5,2)\n",
    "print(ar2)"
   ]
  },
  {
   "cell_type": "markdown",
   "id": "ca45d418",
   "metadata": {},
   "source": [
    "# 6. Write a program to create a numpy array and sort it as per the following cases:\n",
    "    a. Case 1: Sort the array by the second row.\n",
    "    b. Case 2: Sort the array by the second column.\n"
   ]
  },
  {
   "cell_type": "code",
   "execution_count": 217,
   "id": "19099bcd",
   "metadata": {},
   "outputs": [
    {
     "name": "stdout",
     "output_type": "stream",
     "text": [
      "Original Array:\n",
      "[[100  99  98  97  96  95  94  93  92  91]\n",
      " [ 90  89  88  87  86  85  84  83  82  81]\n",
      " [ 80  79  78  77  76  75  74  73  72  71]\n",
      " [ 70  69  68  67  66  65  64  63  62  61]\n",
      " [ 60  59  58  57  56  55  54  53  52  51]\n",
      " [ 50  49  48  47  46  45  44  43  42  41]\n",
      " [ 40  39  38  37  36  35  34  33  32  31]\n",
      " [ 30  29  28  27  26  25  24  23  22  21]\n",
      " [ 20  19  18  17  16  15  14  13  12  11]\n",
      " [ 10   9   8   7   6   5   4   3   2   1]]\n",
      "Array sorted by the second row:\n",
      "[[ 91  92  93  94  95  96  97  98  99 100]\n",
      " [ 81  82  83  84  85  86  87  88  89  90]\n",
      " [ 71  72  73  74  75  76  77  78  79  80]\n",
      " [ 61  62  63  64  65  66  67  68  69  70]\n",
      " [ 51  52  53  54  55  56  57  58  59  60]\n",
      " [ 41  42  43  44  45  46  47  48  49  50]\n",
      " [ 31  32  33  34  35  36  37  38  39  40]\n",
      " [ 21  22  23  24  25  26  27  28  29  30]\n",
      " [ 11  12  13  14  15  16  17  18  19  20]\n",
      " [  1   2   3   4   5   6   7   8   9  10]]\n"
     ]
    }
   ],
   "source": [
    "array_1=np.array([100,99,98,97,96,95,94,93,92,91,90,89,88,87,86,85,84,83,82,81,80,79,78,77,76,75,74,73,72,71,70,69,68,67,66,65,64,63,62,61,60,59,58,57,56,55,54,53,52,51,50,49,48,47,46,45,44,43,42,41,40,39,38,37,36,35,34,33,32,31,30,29,28,27,26,25,24,23,22,21,20,19,18,17,16,15,14,13,12,11,10,9,8,7,6,5,4,3,2,1]).reshape(10,10)\n",
    "print(\"Original Array:\")\n",
    "print(array_1)\n",
    "sorted_by_second_row = np.sort(array_1, axis=1)\n",
    "print(\"Array sorted by the second row:\")\n",
    "print(sorted_by_second_row)"
   ]
  },
  {
   "cell_type": "code",
   "execution_count": null,
   "id": "68865174",
   "metadata": {},
   "outputs": [],
   "source": []
  }
 ],
 "metadata": {
  "kernelspec": {
   "display_name": ".venv",
   "language": "python",
   "name": "python3"
  },
  "language_info": {
   "codemirror_mode": {
    "name": "ipython",
    "version": 3
   },
   "file_extension": ".py",
   "mimetype": "text/x-python",
   "name": "python",
   "nbconvert_exporter": "python",
   "pygments_lexer": "ipython3",
   "version": "3.13.5"
  }
 },
 "nbformat": 4,
 "nbformat_minor": 5
}
