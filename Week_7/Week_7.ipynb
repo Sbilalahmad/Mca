{
 "cells": [
  {
   "cell_type": "code",
   "execution_count": null,
   "id": "9814233f",
   "metadata": {},
   "outputs": [
    {
     "name": "stdout",
     "output_type": "stream",
     "text": [
      "\u001b[0m\u001b[01;34m.\u001b[0m/   \u001b[01;34m.git\u001b[0m/   \u001b[01;34m.vscode\u001b[0m/  \u001b[01;34mWeek_1\u001b[0m/  \u001b[01;34mWeek_3\u001b[0m/  \u001b[01;34mWeek_5\u001b[0m/  Week_7.ipynb\n",
      "\u001b[01;34m..\u001b[0m/  \u001b[01;34m.venv\u001b[0m/  \u001b[01;34mWee_6\u001b[0m/    \u001b[01;34mWeek_2\u001b[0m/  \u001b[01;34mWeek_4\u001b[0m/  \u001b[01;34mWeek_7\u001b[0m/\n"
     ]
    }
   ],
   "source": [
    "cp Report.docx /home/user/"
   ]
  }
 ],
 "metadata": {
  "kernelspec": {
   "display_name": ".venv",
   "language": "python",
   "name": "python3"
  },
  "language_info": {
   "codemirror_mode": {
    "name": "ipython",
    "version": 3
   },
   "file_extension": ".py",
   "mimetype": "text/x-python",
   "name": "python",
   "nbconvert_exporter": "python",
   "pygments_lexer": "ipython3",
   "version": "3.13.5"
  }
 },
 "nbformat": 4,
 "nbformat_minor": 5
}
