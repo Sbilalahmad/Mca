{
 "cells": [
  {
   "cell_type": "markdown",
   "id": "62e2b36d",
   "metadata": {},
   "source": [
    "# 2. Copy, move, and remove files using cp, mv, and rm commands."
   ]
  },
  {
   "cell_type": "code",
   "execution_count": 11,
   "id": "9814233f",
   "metadata": {},
   "outputs": [],
   "source": [
    "cp /home/syed/Desktop/Mca/Week_7/Report.docx /home/syed/Desktop/Mca"
   ]
  },
  {
   "cell_type": "code",
   "execution_count": 14,
   "id": "edc45572",
   "metadata": {},
   "outputs": [],
   "source": [
    "cp /home/syed/Desktop/Mca/Ranga.txt /home/syed/Desktop/Mca/Week_7"
   ]
  },
  {
   "cell_type": "code",
   "execution_count": 18,
   "id": "c10a9df9",
   "metadata": {},
   "outputs": [],
   "source": [
    "cp /home/syed/Desktop/Mca/Week_7/Ranga.txt /home/syed/Desktop/Mca"
   ]
  },
  {
   "cell_type": "code",
   "execution_count": 12,
   "id": "7417bcdd",
   "metadata": {},
   "outputs": [],
   "source": [
    "mv /home/syed/Desktop/Mca/Ranga.txt /home/syed/Desktop/Mca/Week_7"
   ]
  },
  {
   "cell_type": "code",
   "execution_count": 13,
   "id": "679b3354",
   "metadata": {},
   "outputs": [],
   "source": [
    "mv /home/syed/Desktop/Mca/Week_7/Ranga.txt /home/syed/Desktop/Mca "
   ]
  },
  {
   "cell_type": "code",
   "execution_count": 17,
   "id": "9f96b248",
   "metadata": {},
   "outputs": [],
   "source": [
    "rm /home/syed/Desktop/Mca/Ranga.txt"
   ]
  },
  {
   "cell_type": "markdown",
   "id": "8b56080a",
   "metadata": {},
   "source": [
    "# 3. Create and delete directories using mkdir and rmdir."
   ]
  },
  {
   "cell_type": "code",
   "execution_count": 24,
   "id": "0077b780",
   "metadata": {},
   "outputs": [],
   "source": [
    "mkdir /home/syed/Desktop/Mca/New_Dir"
   ]
  },
  {
   "cell_type": "code",
   "execution_count": 8,
   "id": "370c989e",
   "metadata": {},
   "outputs": [],
   "source": [
    "import os\n",
    "for i in range(8,15):\n",
    "    dirname = f\"/home/syed/Desktop/Mca/Week_{i}\"\n",
    "    os.makedirs(dirname, exist_ok=True)"
   ]
  },
  {
   "cell_type": "code",
   "execution_count": 23,
   "id": "14d93b00",
   "metadata": {},
   "outputs": [],
   "source": [
    "rmdir /home/syed/Desktop/Mca/New_Dir"
   ]
  },
  {
   "cell_type": "markdown",
   "id": "3abe17a5",
   "metadata": {},
   "source": [
    "# 4. Change the current working directory using cd and display the present working directory using pwd."
   ]
  },
  {
   "cell_type": "code",
   "execution_count": 25,
   "id": "0e682e91",
   "metadata": {},
   "outputs": [
    {
     "name": "stdout",
     "output_type": "stream",
     "text": [
      "/home/syed/Desktop/Mca\n"
     ]
    }
   ],
   "source": [
    "cd .."
   ]
  },
  {
   "cell_type": "code",
   "execution_count": 26,
   "id": "b5f035fa",
   "metadata": {},
   "outputs": [
    {
     "data": {
      "text/plain": [
       "'/home/syed/Desktop/Mca'"
      ]
     },
     "execution_count": 26,
     "metadata": {},
     "output_type": "execute_result"
    }
   ],
   "source": [
    "pwd"
   ]
  },
  {
   "cell_type": "code",
   "execution_count": 27,
   "id": "9fb166b5",
   "metadata": {},
   "outputs": [
    {
     "name": "stdout",
     "output_type": "stream",
     "text": [
      "/home/syed/Desktop/Mca/Week_7\n"
     ]
    }
   ],
   "source": [
    "cd Week_7"
   ]
  },
  {
   "cell_type": "markdown",
   "id": "78628d6b",
   "metadata": {},
   "source": [
    "# 5. Consider two files that contain information about Employees and Departments in the following parameters: Employee (Name, EId, Salary, DID), Department (DID, DName, DLocation). Write a Python program to find the average salary of each department."
   ]
  },
  {
   "cell_type": "code",
   "execution_count": 39,
   "id": "d4917d1a",
   "metadata": {},
   "outputs": [
    {
     "name": "stdout",
     "output_type": "stream",
     "text": [
      "         DName        Salary\n",
      "0  Engineering  73000.000000\n",
      "1      Finance  77666.666667\n",
      "2    Marketing  68000.000000\n"
     ]
    }
   ],
   "source": [
    "import pandas as pd\n",
    "import numpy as np\n",
    "emp = pd.read_csv('datafiles/empolye.csv')\n",
    "dept = pd.read_csv('datafiles/department.csv')\n",
    "merged = pd.merge(emp, dept, on='DID')\n",
    "avg_salary = merged.groupby('DName')['Salary'].mean().reset_index()\n",
    "print(avg_salary)"
   ]
  },
  {
   "cell_type": "markdown",
   "id": "64df31c2",
   "metadata": {},
   "source": [
    "# 6. Consider two files having some lines of statements. Write a Python program to swap content present at middle line of first file with the content of last line of the second file. (Note: First file contains odd numbers of lines of statement)"
   ]
  },
  {
   "cell_type": "code",
   "execution_count": 4,
   "id": "6f0ecec0",
   "metadata": {},
   "outputs": [],
   "source": [
    "def swap_lines(file1, file2):\n",
    "    with open(file1, 'r') as f1:\n",
    "        lines1 = f1.readlines()\n",
    "    \n",
    "    with open(file2, 'r') as f2:\n",
    "        lines2 = f2.readlines()\n",
    "    \n",
    "    middle_index1 = len(lines1) // 2\n",
    "    middle_index2 = len(lines2) // 2\n",
    "    lines1[middle_index1:], lines2[middle_index2:] = lines2[middle_index2:], lines1[middle_index1:]\n",
    "    with open(file1, 'w') as f1:\n",
    "        f1.writelines(lines1)\n",
    "    \n",
    "    with open(file2, 'w') as f2:\n",
    "        f2.writelines(lines2)\n",
    "\n",
    "# Example usage\n",
    "swap_lines('datafiles/file1.txt', 'datafiles/file2.txt')\n"
   ]
  },
  {
   "cell_type": "markdown",
   "id": "2203e00a",
   "metadata": {},
   "source": [
    "# 7. Simulate a RIP-like behavior using a Python program. Accept a list of directly connected routers with hop counts and simulate RIP updates for 3 rounds. Show how the routing table evolves.\n",
    "\n"
   ]
  },
  {
   "cell_type": "code",
   "execution_count": 5,
   "id": "933f02a6",
   "metadata": {},
   "outputs": [
    {
     "name": "stdout",
     "output_type": "stream",
     "text": [
      "Round 1:\n",
      "A Routing Table: {'B': 1, 'C': 4}\n",
      "B Routing Table: {'A': 1, 'C': 2}\n",
      "C Routing Table: {'A': 4, 'B': 2}\n",
      "\n",
      "Round 2:\n",
      "A Routing Table: {'B': 1, 'C': 4}\n",
      "B Routing Table: {'A': 1, 'C': 2}\n",
      "C Routing Table: {'A': 4, 'B': 2}\n",
      "\n",
      "Round 3:\n",
      "A Routing Table: {'B': 1, 'C': 4}\n",
      "B Routing Table: {'A': 1, 'C': 2}\n",
      "C Routing Table: {'A': 4, 'B': 2}\n",
      "\n"
     ]
    }
   ],
   "source": [
    "class Router:\n",
    "    def __init__(self, name):\n",
    "        self.name = name\n",
    "        self.routing_table = {}\n",
    "\n",
    "    def update_routing_table(self, updates):\n",
    "        for router, hop_count in updates.items():\n",
    "            if router not in self.routing_table or hop_count < self.routing_table[router]:\n",
    "                self.routing_table[router] = hop_count\n",
    "\n",
    "    def send_updates(self):\n",
    "        return self.routing_table.copy()\n",
    "\n",
    "\n",
    "def simulate_rip(routers, rounds):\n",
    "    for round in range(rounds):\n",
    "        print(f\"Round {round + 1}:\")\n",
    "        updates = {}\n",
    "        for router in routers:\n",
    "            updates[router.name] = router.send_updates()\n",
    "        \n",
    "        for router in routers:\n",
    "            router.update_routing_table(updates[router.name])\n",
    "            print(f\"{router.name} Routing Table: {router.routing_table}\")\n",
    "        print()\n",
    "\n",
    "\n",
    "# Initialize routers\n",
    "router_a = Router(\"A\")\n",
    "router_b = Router(\"B\")\n",
    "router_c = Router(\"C\")\n",
    "\n",
    "# Directly connected routers with initial hop counts\n",
    "router_a.update_routing_table({\"B\": 1, \"C\": 4})\n",
    "router_b.update_routing_table({\"A\": 1, \"C\": 2})\n",
    "router_c.update_routing_table({\"A\": 4, \"B\": 2})\n",
    "\n",
    "# List of routers\n",
    "routers = [router_a, router_b, router_c]\n",
    "\n",
    "# Simulate RIP updates for 3 rounds\n",
    "simulate_rip(routers, 3)\n"
   ]
  }
 ],
 "metadata": {
  "kernelspec": {
   "display_name": ".venv",
   "language": "python",
   "name": "python3"
  },
  "language_info": {
   "codemirror_mode": {
    "name": "ipython",
    "version": 3
   },
   "file_extension": ".py",
   "mimetype": "text/x-python",
   "name": "python",
   "nbconvert_exporter": "python",
   "pygments_lexer": "ipython3",
   "version": "3.13.5"
  }
 },
 "nbformat": 4,
 "nbformat_minor": 5
}
