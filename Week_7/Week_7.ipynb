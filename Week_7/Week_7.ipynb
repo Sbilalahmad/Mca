{
 "cells": [
  {
   "cell_type": "markdown",
   "id": "62e2b36d",
   "metadata": {},
   "source": [
    "# 2. Copy, move, and remove files using cp, mv, and rm commands."
   ]
  },
  {
   "cell_type": "code",
   "execution_count": 11,
   "id": "9814233f",
   "metadata": {},
   "outputs": [],
   "source": [
    "cp /home/syed/Desktop/Mca/Week_7/Report.docx /home/syed/Desktop/Mca"
   ]
  },
  {
   "cell_type": "code",
   "execution_count": 14,
   "id": "edc45572",
   "metadata": {},
   "outputs": [],
   "source": [
    "cp /home/syed/Desktop/Mca/Ranga.txt /home/syed/Desktop/Mca/Week_7"
   ]
  },
  {
   "cell_type": "code",
   "execution_count": 18,
   "id": "c10a9df9",
   "metadata": {},
   "outputs": [],
   "source": [
    "cp /home/syed/Desktop/Mca/Week_7/Ranga.txt /home/syed/Desktop/Mca"
   ]
  },
  {
   "cell_type": "code",
   "execution_count": 12,
   "id": "7417bcdd",
   "metadata": {},
   "outputs": [],
   "source": [
    "mv /home/syed/Desktop/Mca/Ranga.txt /home/syed/Desktop/Mca/Week_7"
   ]
  },
  {
   "cell_type": "code",
   "execution_count": 13,
   "id": "679b3354",
   "metadata": {},
   "outputs": [],
   "source": [
    "mv /home/syed/Desktop/Mca/Week_7/Ranga.txt /home/syed/Desktop/Mca "
   ]
  },
  {
   "cell_type": "code",
   "execution_count": 17,
   "id": "9f96b248",
   "metadata": {},
   "outputs": [],
   "source": [
    "rm /home/syed/Desktop/Mca/Ranga.txt"
   ]
  },
  {
   "cell_type": "markdown",
   "id": "8b56080a",
   "metadata": {},
   "source": [
    "# 3. Create and delete directories using mkdir and rmdir."
   ]
  },
  {
   "cell_type": "code",
   "execution_count": 24,
   "id": "0077b780",
   "metadata": {},
   "outputs": [],
   "source": [
    "mkdir /home/syed/Desktop/Mca/New_Dir"
   ]
  },
  {
   "cell_type": "code",
   "execution_count": 8,
   "id": "370c989e",
   "metadata": {},
   "outputs": [],
   "source": [
    "import os\n",
    "for i in range(8,15):\n",
    "    dirname = f\"/home/syed/Desktop/Mca/Week_{i}\"\n",
    "    os.makedirs(dirname, exist_ok=True)"
   ]
  },
  {
   "cell_type": "code",
   "execution_count": 23,
   "id": "14d93b00",
   "metadata": {},
   "outputs": [],
   "source": [
    "rmdir /home/syed/Desktop/Mca/New_Dir"
   ]
  },
  {
   "cell_type": "markdown",
   "id": "3abe17a5",
   "metadata": {},
   "source": [
    "# 4. Change the current working directory using cd and display the present working directory using pwd."
   ]
  },
  {
   "cell_type": "code",
   "execution_count": 25,
   "id": "0e682e91",
   "metadata": {},
   "outputs": [
    {
     "name": "stdout",
     "output_type": "stream",
     "text": [
      "/home/syed/Desktop/Mca\n"
     ]
    }
   ],
   "source": [
    "cd .."
   ]
  },
  {
   "cell_type": "code",
   "execution_count": 26,
   "id": "b5f035fa",
   "metadata": {},
   "outputs": [
    {
     "data": {
      "text/plain": [
       "'/home/syed/Desktop/Mca'"
      ]
     },
     "execution_count": 26,
     "metadata": {},
     "output_type": "execute_result"
    }
   ],
   "source": [
    "pwd"
   ]
  },
  {
   "cell_type": "code",
   "execution_count": 27,
   "id": "9fb166b5",
   "metadata": {},
   "outputs": [
    {
     "name": "stdout",
     "output_type": "stream",
     "text": [
      "/home/syed/Desktop/Mca/Week_7\n"
     ]
    }
   ],
   "source": [
    "cd Week_7"
   ]
  },
  {
   "cell_type": "markdown",
   "id": "78628d6b",
   "metadata": {},
   "source": [
    "# 5. Consider two files that contain information about Employees and Departments in the following parameters: Employee (Name, EId, Salary, DID), Department (DID, DName, DLocation). Write a Python program to find the average salary of each department."
   ]
  },
  {
   "cell_type": "code",
   "execution_count": 39,
   "id": "d4917d1a",
   "metadata": {},
   "outputs": [
    {
     "name": "stdout",
     "output_type": "stream",
     "text": [
      "         DName        Salary\n",
      "0  Engineering  73000.000000\n",
      "1      Finance  77666.666667\n",
      "2    Marketing  68000.000000\n"
     ]
    }
   ],
   "source": [
    "import pandas as pd\n",
    "import numpy as np\n",
    "emp = pd.read_csv('datafiles/empolye.csv')\n",
    "dept = pd.read_csv('datafiles/department.csv')\n",
    "merged = pd.merge(emp, dept, on='DID')\n",
    "avg_salary = merged.groupby('DName')['Salary'].mean().reset_index()\n",
    "print(avg_salary)"
   ]
  },
  {
   "cell_type": "markdown",
   "id": "64df31c2",
   "metadata": {},
   "source": [
    "# 6. Consider two files having some lines of statements. Write a Python program to swap content present at middle line of first file with the content of last line of the second file. (Note: First file contains odd numbers of lines of statement)"
   ]
  },
  {
   "cell_type": "code",
   "execution_count": null,
   "id": "6f0ecec0",
   "metadata": {},
   "outputs": [],
   "source": [
    "with open('datafiles/file1.txt', 'r+') as f1, open('datafiles/file2.txt', 'r+') as f2:\n",
    "    a=f1.readlines()\n",
    "    b=f2.readlines()\n",
    "    a[len(a)//2],b[len(b)//2]=b[len(b)//2],a[len(a)//2]\n",
    "    f1.flush()\n",
    "    # f1.writelines(a)\n",
    "    # f2.write('')\n",
    "    # f2.writelines(b)"
   ]
  },
  {
   "cell_type": "code",
   "execution_count": null,
   "id": "933f02a6",
   "metadata": {},
   "outputs": [],
   "source": [
    "# 7. Simulate a RIP-like behavior using a Python program. Accept a list of directly\n",
    "# connected routers with hop counts and simulate RIP updates for 3 rounds. Show how\n",
    "# the routing table evolves.\n",
    "\n"
   ]
  }
 ],
 "metadata": {
  "kernelspec": {
   "display_name": ".venv",
   "language": "python",
   "name": "python3"
  },
  "language_info": {
   "codemirror_mode": {
    "name": "ipython",
    "version": 3
   },
   "file_extension": ".py",
   "mimetype": "text/x-python",
   "name": "python",
   "nbconvert_exporter": "python",
   "pygments_lexer": "ipython3",
   "version": "3.13.5"
  }
 },
 "nbformat": 4,
 "nbformat_minor": 5
}
