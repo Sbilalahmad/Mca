{
 "cells": [
  {
   "cell_type": "markdown",
   "id": "bd1cbe21",
   "metadata": {},
   "source": [
    "# 1. Display detailed information about files using ls -l and other ls options."
   ]
  },
  {
   "cell_type": "code",
   "execution_count": 7,
   "id": "d161496d",
   "metadata": {},
   "outputs": [
    {
     "name": "stdout",
     "output_type": "stream",
     "text": [
      "total 0\n",
      "-rw-rw-r-- 1 syed syed 0 Sep 16 21:40 Week_8.ipynb\n"
     ]
    }
   ],
   "source": [
    "ls -l"
   ]
  },
  {
   "cell_type": "code",
   "execution_count": 8,
   "id": "fe3156ca",
   "metadata": {},
   "outputs": [
    {
     "name": "stdout",
     "output_type": "stream",
     "text": [
      "\u001b[0m\u001b[01;34m.\u001b[0m/  \u001b[01;34m..\u001b[0m/  Week_8.ipynb\n"
     ]
    }
   ],
   "source": [
    "ls -a"
   ]
  },
  {
   "cell_type": "code",
   "execution_count": 9,
   "id": "d5fd46fb",
   "metadata": {},
   "outputs": [
    {
     "name": "stdout",
     "output_type": "stream",
     "text": [
      "total 0\n",
      "-rw-rw-r-- 1 syed syed 0 Sep 16 21:40 Week_8.ipynb\n"
     ]
    }
   ],
   "source": [
    "\n",
    "ls -lh"
   ]
  },
  {
   "cell_type": "code",
   "execution_count": 10,
   "id": "960c896a",
   "metadata": {},
   "outputs": [
    {
     "name": "stdout",
     "output_type": "stream",
     "text": [
      ".:\n",
      "Week_8.ipynb\n"
     ]
    }
   ],
   "source": [
    "ls -R"
   ]
  },
  {
   "cell_type": "code",
   "execution_count": 11,
   "id": "c87f9eaf",
   "metadata": {},
   "outputs": [
    {
     "name": "stdout",
     "output_type": "stream",
     "text": [
      "total 0\n",
      "-rw-rw-r-- 1 syed syed 0 Sep 16 21:40 Week_8.ipynb\n"
     ]
    }
   ],
   "source": [
    "ls -lt"
   ]
  },
  {
   "cell_type": "code",
   "execution_count": 12,
   "id": "3ef2adc1",
   "metadata": {},
   "outputs": [
    {
     "name": "stdout",
     "output_type": "stream",
     "text": [
      "total 0\n",
      "-rw-rw-r-- 1 syed syed 0 Sep 16 21:40 Week_8.ipynb\n"
     ]
    }
   ],
   "source": [
    "ls -ltr"
   ]
  },
  {
   "cell_type": "code",
   "execution_count": 13,
   "id": "020be965",
   "metadata": {},
   "outputs": [
    {
     "name": "stdout",
     "output_type": "stream",
     "text": [
      "5680825 Week_8.ipynb\n"
     ]
    }
   ],
   "source": [
    "ls -i"
   ]
  },
  {
   "cell_type": "markdown",
   "id": "bcbf30b1",
   "metadata": {},
   "source": [
    "# 2. Change file ownership using chown and group ownership using chgrp."
   ]
  },
  {
   "cell_type": "code",
   "execution_count": 21,
   "id": "46bd75b3",
   "metadata": {},
   "outputs": [
    {
     "ename": "NameError",
     "evalue": "name 'chown' is not defined",
     "output_type": "error",
     "traceback": [
      "\u001b[31m---------------------------------------------------------------------------\u001b[39m",
      "\u001b[31mNameError\u001b[39m                                 Traceback (most recent call last)",
      "\u001b[36mCell\u001b[39m\u001b[36m \u001b[39m\u001b[32mIn[21]\u001b[39m\u001b[32m, line 1\u001b[39m\n\u001b[32m----> \u001b[39m\u001b[32m1\u001b[39m \u001b[43mchown\u001b[49m -h\n",
      "\u001b[31mNameError\u001b[39m: name 'chown' is not defined"
     ]
    }
   ],
   "source": [
    "chown -h"
   ]
  }
 ],
 "metadata": {
  "kernelspec": {
   "display_name": ".venv",
   "language": "python",
   "name": "python3"
  },
  "language_info": {
   "codemirror_mode": {
    "name": "ipython",
    "version": 3
   },
   "file_extension": ".py",
   "mimetype": "text/x-python",
   "name": "python",
   "nbconvert_exporter": "python",
   "pygments_lexer": "ipython3",
   "version": "3.13.5"
  }
 },
 "nbformat": 4,
 "nbformat_minor": 5
}
