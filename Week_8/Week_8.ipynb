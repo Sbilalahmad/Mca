{
 "cells": [
  {
   "cell_type": "markdown",
   "id": "19e58711",
   "metadata": {},
   "source": [
    "# 5. Write a python program that reads a string which contains English alphabets and numbers. The program should create two lists L1 and L2, where L1 includes all the numbers present in the string while L2 includes all the alphabets of the string."
   ]
  },
  {
   "cell_type": "code",
   "execution_count": 1,
   "id": "9a8f4e9b",
   "metadata": {},
   "outputs": [
    {
     "name": "stdout",
     "output_type": "stream",
     "text": [
      "List of numerical \n",
      " ['1', '2', '3', '4', '5', '6', '7', '8', '9', '0', '1', '2', '3', '4', '5', '6', '7', '8', '9', '0', '1', '2', '3', '4', '5', '6', '7', '8', '9', '0', '1', '2', '3', '4', '5', '6', '7', '8', '9', '0', '1', '2', '3', '4', '5', '6', '7', '8', '9', '0', '1', '2', '3', '4', '5', '6', '7', '8', '9', '0', '1', '2', '3', '4', '5', '6', '7', '8', '9', '0', '1', '2', '3', '4', '5', '6', '7', '8', '9', '0', '1', '2', '3', '4', '5', '6', '7', '8', '9', '0', '1', '2', '3', '4', '5', '6', '7', '8', '9', '0', '1', '2', '3', '4', '5', '6', '7', '8', '9', '0', '1', '2', '3', '4', '5', '6', '7', '8', '9', '0', '1', '2', '3', '4', '5', '6', '7', '8', '9', '0']\n",
      "List of alphabets \n",
      " ['a', 'B', 'c', 'D', 'e', 'F', 'g', 'H', 'i', 'J', 'k', 'L', 'm', 'N', 'o', 'P', 'q', 'R', 's', 'T', 'u', 'V', 'w', 'X', 'y', 'Z', 'a', 'B', 'c', 'D', 'e', 'F', 'g', 'H', 'i', 'J', 'k', 'L', 'm', 'N', 'o', 'P', 'q', 'R', 's', 'T', 'u', 'V', 'w', 'X', 'y', 'Z', 'a', 'B', 'c', 'D', 'e', 'F', 'g', 'H', 'i', 'J', 'k', 'L', 'm', 'N', 'o', 'P', 'q', 'R', 's', 'T', 'u', 'V', 'w', 'X', 'y', 'Z', 'a', 'B', 'c', 'D', 'e', 'F', 'g', 'H', 'i', 'J', 'k', 'L', 'm', 'N', 'o', 'P', 'q', 'R', 's', 'T', 'u', 'V', 'w', 'X', 'y', 'Z', 'a', 'B', 'c', 'D', 'e', 'F', 'g', 'H', 'i', 'J', 'k', 'L', 'm', 'N', 'o', 'P', 'q', 'R', 's', 'T', 'u', 'V', 'w', 'X', 'y', 'Z']\n"
     ]
    }
   ],
   "source": [
    "import string\n",
    "x='a1B2c3D4e5F6g7H8i9J0k1L2m3N4o5P6q7R8s9T0u1V2w3X4y5Z6a7B8c9D0e1F2g3H4i5J6k7L8m9N0o1P2q3R4s5T6u7V8w9X0y1Z2a3B4c5D6e7F8g9H0i1J2k3L4m5N6o7P8q9R0s1T2u3V4w5X6y7Z8a9B0c1D2e3F4g5H6i7J8k9L0m1N2o3P4q5R6s7T8u9V0w1X2y3Z4a5B6c7D8e9F0g1H2i3J4k5L6m7N8o9P0q1R2s3T4u5V6w7X8y9Z0'\n",
    "L1=list()\n",
    "L2=list()\n",
    "for i in x:\n",
    "    if i in string.digits:\n",
    "        L1.append(i)\n",
    "    elif i in string.ascii_letters:\n",
    "        L2.append(i)\n",
    "    else:\n",
    "        pass\n",
    "print(\"List of numerical \\n\",L1)\n",
    "print(\"List of alphabets \\n\",L2)"
   ]
  },
  {
   "cell_type": "markdown",
   "id": "950b570b",
   "metadata": {},
   "source": [
    "# 6. Write a program in python to find vowels having maximum number of instances in a given file."
   ]
  },
  {
   "cell_type": "code",
   "execution_count": 2,
   "id": "f1f60f30",
   "metadata": {},
   "outputs": [
    {
     "ename": "FileNotFoundError",
     "evalue": "[Errno 2] No such file or directory: 'C:/Users/ACER/Desktop/Mca/Ranga.txt'",
     "output_type": "error",
     "traceback": [
      "\u001b[31m---------------------------------------------------------------------------\u001b[39m",
      "\u001b[31mFileNotFoundError\u001b[39m                         Traceback (most recent call last)",
      "\u001b[36mCell\u001b[39m\u001b[36m \u001b[39m\u001b[32mIn[2]\u001b[39m\u001b[32m, line 9\u001b[39m\n\u001b[32m      1\u001b[39m vovels={\n\u001b[32m      2\u001b[39m     \u001b[33m'\u001b[39m\u001b[33ma\u001b[39m\u001b[33m'\u001b[39m:\u001b[32m0\u001b[39m,\n\u001b[32m      3\u001b[39m     \u001b[33m'\u001b[39m\u001b[33me\u001b[39m\u001b[33m'\u001b[39m:\u001b[32m0\u001b[39m,\n\u001b[32m   (...)\u001b[39m\u001b[32m      6\u001b[39m     \u001b[33m'\u001b[39m\u001b[33mu\u001b[39m\u001b[33m'\u001b[39m:\u001b[32m0\u001b[39m\n\u001b[32m      7\u001b[39m }\n\u001b[32m      8\u001b[39m key_with_max_value=\u001b[38;5;28mlist\u001b[39m()\n\u001b[32m----> \u001b[39m\u001b[32m9\u001b[39m \u001b[38;5;28;01mwith\u001b[39;00m \u001b[38;5;28;43mopen\u001b[39;49m\u001b[43m(\u001b[49m\u001b[33;43m'\u001b[39;49m\u001b[33;43mC:/Users/ACER/Desktop/Mca/Ranga.txt\u001b[39;49m\u001b[33;43m'\u001b[39;49m\u001b[43m,\u001b[49m\u001b[33;43m'\u001b[39;49m\u001b[33;43mr+\u001b[39;49m\u001b[33;43m'\u001b[39;49m\u001b[43m)\u001b[49m \u001b[38;5;28;01mas\u001b[39;00m f:\n\u001b[32m     10\u001b[39m     linearray=f.readlines()\n\u001b[32m     11\u001b[39m     \u001b[38;5;28;01mfor\u001b[39;00m line \u001b[38;5;129;01min\u001b[39;00m linearray:\n",
      "\u001b[36mFile \u001b[39m\u001b[32m~/Desktop/Mca/.venv/lib/python3.13/site-packages/IPython/core/interactiveshell.py:343\u001b[39m, in \u001b[36m_modified_open\u001b[39m\u001b[34m(file, *args, **kwargs)\u001b[39m\n\u001b[32m    336\u001b[39m \u001b[38;5;28;01mif\u001b[39;00m file \u001b[38;5;129;01min\u001b[39;00m {\u001b[32m0\u001b[39m, \u001b[32m1\u001b[39m, \u001b[32m2\u001b[39m}:\n\u001b[32m    337\u001b[39m     \u001b[38;5;28;01mraise\u001b[39;00m \u001b[38;5;167;01mValueError\u001b[39;00m(\n\u001b[32m    338\u001b[39m         \u001b[33mf\u001b[39m\u001b[33m\"\u001b[39m\u001b[33mIPython won\u001b[39m\u001b[33m'\u001b[39m\u001b[33mt let you open fd=\u001b[39m\u001b[38;5;132;01m{\u001b[39;00mfile\u001b[38;5;132;01m}\u001b[39;00m\u001b[33m by default \u001b[39m\u001b[33m\"\u001b[39m\n\u001b[32m    339\u001b[39m         \u001b[33m\"\u001b[39m\u001b[33mas it is likely to crash IPython. If you know what you are doing, \u001b[39m\u001b[33m\"\u001b[39m\n\u001b[32m    340\u001b[39m         \u001b[33m\"\u001b[39m\u001b[33myou can use builtins\u001b[39m\u001b[33m'\u001b[39m\u001b[33m open.\u001b[39m\u001b[33m\"\u001b[39m\n\u001b[32m    341\u001b[39m     )\n\u001b[32m--> \u001b[39m\u001b[32m343\u001b[39m \u001b[38;5;28;01mreturn\u001b[39;00m \u001b[43mio_open\u001b[49m\u001b[43m(\u001b[49m\u001b[43mfile\u001b[49m\u001b[43m,\u001b[49m\u001b[43m \u001b[49m\u001b[43m*\u001b[49m\u001b[43margs\u001b[49m\u001b[43m,\u001b[49m\u001b[43m \u001b[49m\u001b[43m*\u001b[49m\u001b[43m*\u001b[49m\u001b[43mkwargs\u001b[49m\u001b[43m)\u001b[49m\n",
      "\u001b[31mFileNotFoundError\u001b[39m: [Errno 2] No such file or directory: 'C:/Users/ACER/Desktop/Mca/Ranga.txt'"
     ]
    }
   ],
   "source": [
    "vovels={\n",
    "    'a':0,\n",
    "    'e':0,\n",
    "    'i':0,\n",
    "    'o':0,\n",
    "    'u':0\n",
    "}\n",
    "key_with_max_value=list()\n",
    "with open('C:/Users/ACER/Desktop/Mca/Ranga.txt','r+') as f:\n",
    "    linearray=f.readlines()\n",
    "    for line in linearray:\n",
    "        for i in line:\n",
    "            if i in vovels.keys():\n",
    "                vovels[i]+=1\n",
    "\n",
    "max_value=max(vovels.values())\n",
    "for key,value in vovels.items():\n",
    "    if value==max_value:\n",
    "        key_with_max_value.append(key)\n",
    "print(f\"Key with max value {key_with_max_value} with {max_value} instances.\")"
   ]
  },
  {
   "cell_type": "markdown",
   "id": "6fb248d5",
   "metadata": {},
   "source": [
    "# 7. Write a Python program to create a list of user’s supplied distinct integers having even number of elements. The program further creates two lists of equal lengths based on the original list, where first list is having all elements less than elements of second list. Display both the lists"
   ]
  },
  {
   "cell_type": "code",
   "execution_count": 46,
   "id": "3a2a7a73",
   "metadata": {},
   "outputs": [
    {
     "name": "stdout",
     "output_type": "stream",
     "text": [
      "[11, 54]\n",
      "[465, 678]\n"
     ]
    }
   ],
   "source": [
    "int_list=list()\n",
    "choice='y'\n",
    "while choice !='n':\n",
    "    for i in range(4):\n",
    "        j=int(input(\"Enter an integer \"))\n",
    "        int_list.append(j)\n",
    "    choice=input(\"Do you want to contineum? (y/n): \")\n",
    "int_list.sort()\n",
    "first_list=int_list[:len(int_list)//2]\n",
    "second_list=int_list[len(int_list)//2:]\n",
    "print(first_list)\n",
    "print(second_list)\n"
   ]
  },
  {
   "cell_type": "markdown",
   "id": "60bd18c3",
   "metadata": {},
   "source": [
    "# 8. Write a Python program to check if a string matches the regular expression over {0,1} with an even number of 0s (e.g., (10101*)* + 1*)."
   ]
  },
  {
   "cell_type": "code",
   "execution_count": 6,
   "id": "35db9db7",
   "metadata": {},
   "outputs": [
    {
     "name": "stdout",
     "output_type": "stream",
     "text": [
      "{'': True, '1': True, '00': True, '0101': True, '1100': True, '101010': False, '111': True, '0000': True}\n"
     ]
    }
   ],
   "source": [
    "import re\n",
    "\n",
    "def check_string(s):\n",
    "    pattern = r'^(1*01*0)*1*$'\n",
    "    return bool(re.match(pattern, s))\n",
    "\n",
    "# Example usage\n",
    "test_strings = [\"\", \"1\", \"00\", \"0101\", \"1100\", \"101010\", \"111\", \"0000\"]\n",
    "results = {s: check_string(s) for s in test_strings}\n",
    "print(results)\n"
   ]
  }
 ],
 "metadata": {
  "kernelspec": {
   "display_name": ".venv",
   "language": "python",
   "name": "python3"
  },
  "language_info": {
   "codemirror_mode": {
    "name": "ipython",
    "version": 3
   },
   "file_extension": ".py",
   "mimetype": "text/x-python",
   "name": "python",
   "nbconvert_exporter": "python",
   "pygments_lexer": "ipython3",
   "version": "3.13.7"
  }
 },
 "nbformat": 4,
 "nbformat_minor": 5
}
